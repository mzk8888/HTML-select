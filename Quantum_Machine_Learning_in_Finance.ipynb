{
  "nbformat": 4,
  "nbformat_minor": 0,
  "metadata": {
    "colab": {
      "provenance": [],
      "authorship_tag": "ABX9TyOdA/E7EdZljJXCmQokuoCz",
      "include_colab_link": true
    },
    "kernelspec": {
      "name": "python3",
      "display_name": "Python 3"
    },
    "language_info": {
      "name": "python"
    }
  },
  "cells": [
    {
      "cell_type": "markdown",
      "metadata": {
        "id": "view-in-github",
        "colab_type": "text"
      },
      "source": [
        "<a href=\"https://colab.research.google.com/github/mzk8888/HTML-select/blob/main/Quantum_Machine_Learning_in_Finance.ipynb\" target=\"_parent\"><img src=\"https://colab.research.google.com/assets/colab-badge.svg\" alt=\"Open In Colab\"/></a>"
      ]
    },
    {
      "cell_type": "code",
      "execution_count": null,
      "metadata": {
        "colab": {
          "base_uri": "https://localhost:8080/"
        },
        "id": "a8AYlN9LiVCG",
        "outputId": "4be0779a-3011-463f-a109-2b8203c19158"
      },
      "outputs": [
        {
          "output_type": "stream",
          "name": "stdout",
          "text": [
            "Requirement already satisfied: pennylane in /usr/local/lib/python3.10/dist-packages (0.35.0)\n",
            "Requirement already satisfied: numpy in /usr/local/lib/python3.10/dist-packages (from pennylane) (1.25.2)\n",
            "Requirement already satisfied: scipy in /usr/local/lib/python3.10/dist-packages (from pennylane) (1.11.4)\n",
            "Requirement already satisfied: networkx in /usr/local/lib/python3.10/dist-packages (from pennylane) (3.2.1)\n",
            "Requirement already satisfied: rustworkx in /usr/local/lib/python3.10/dist-packages (from pennylane) (0.14.1)\n",
            "Requirement already satisfied: autograd in /usr/local/lib/python3.10/dist-packages (from pennylane) (1.6.2)\n",
            "Requirement already satisfied: toml in /usr/local/lib/python3.10/dist-packages (from pennylane) (0.10.2)\n",
            "Requirement already satisfied: appdirs in /usr/local/lib/python3.10/dist-packages (from pennylane) (1.4.4)\n",
            "Requirement already satisfied: semantic-version>=2.7 in /usr/local/lib/python3.10/dist-packages (from pennylane) (2.10.0)\n",
            "Requirement already satisfied: autoray>=0.6.1 in /usr/local/lib/python3.10/dist-packages (from pennylane) (0.6.9)\n",
            "Requirement already satisfied: cachetools in /usr/local/lib/python3.10/dist-packages (from pennylane) (5.3.3)\n",
            "Requirement already satisfied: pennylane-lightning>=0.35 in /usr/local/lib/python3.10/dist-packages (from pennylane) (0.35.0)\n",
            "Requirement already satisfied: requests in /usr/local/lib/python3.10/dist-packages (from pennylane) (2.31.0)\n",
            "Requirement already satisfied: typing-extensions in /usr/local/lib/python3.10/dist-packages (from pennylane) (4.10.0)\n",
            "Requirement already satisfied: future>=0.15.2 in /usr/local/lib/python3.10/dist-packages (from autograd->pennylane) (0.18.3)\n",
            "Requirement already satisfied: charset-normalizer<4,>=2 in /usr/local/lib/python3.10/dist-packages (from requests->pennylane) (3.3.2)\n",
            "Requirement already satisfied: idna<4,>=2.5 in /usr/local/lib/python3.10/dist-packages (from requests->pennylane) (3.6)\n",
            "Requirement already satisfied: urllib3<3,>=1.21.1 in /usr/local/lib/python3.10/dist-packages (from requests->pennylane) (2.0.7)\n",
            "Requirement already satisfied: certifi>=2017.4.17 in /usr/local/lib/python3.10/dist-packages (from requests->pennylane) (2024.2.2)\n"
          ]
        }
      ],
      "source": [
        "!pip install pennylane"
      ]
    },
    {
      "cell_type": "code",
      "source": [
        "import tqdm #ローディング時間を可視化する"
      ],
      "metadata": {
        "id": "UEeZ4QCZiyNG"
      },
      "execution_count": null,
      "outputs": []
    },
    {
      "cell_type": "code",
      "source": [
        "TRAIN_START ='2016-01-01' #訓練データ\n",
        "TRAIN_END = '2016-12-31'"
      ],
      "metadata": {
        "id": "OuqC-5F4i0W2"
      },
      "execution_count": null,
      "outputs": []
    },
    {
      "cell_type": "code",
      "source": [
        "PRED_START ='2017-01-01' #予測データ\n",
        "PRED_END = '2018-03-01'"
      ],
      "metadata": {
        "id": "C7WvfklMi_-j"
      },
      "execution_count": null,
      "outputs": []
    },
    {
      "cell_type": "code",
      "source": [
        "from pandas_datareader import data as pdr #金融データ\n",
        "import yfinance as yf #アメリカのヤフーファイナンス\n",
        "yf.pdr_override() #ヤフーファイナンスを上書き"
      ],
      "metadata": {
        "id": "iLRD55K-jD_L"
      },
      "execution_count": null,
      "outputs": []
    },
    {
      "cell_type": "code",
      "source": [
        "df1 = pdr.get_data_yahoo(\"IBM\", start=TRAIN_START, end=TRAIN_END) #IBMを株価データを読み込む"
      ],
      "metadata": {
        "colab": {
          "base_uri": "https://localhost:8080/"
        },
        "id": "8g4GGq-mjQYS",
        "outputId": "8ed7546c-9557-4440-9927-4616fd0fcf51"
      },
      "execution_count": null,
      "outputs": [
        {
          "output_type": "stream",
          "name": "stderr",
          "text": [
            "\r[*********************100%%**********************]  1 of 1 completed\n"
          ]
        }
      ]
    },
    {
      "cell_type": "code",
      "source": [
        "df1 #読み込むデータを可視化"
      ],
      "metadata": {
        "colab": {
          "base_uri": "https://localhost:8080/",
          "height": 648
        },
        "id": "I3wWuQtRjV3a",
        "outputId": "05136d63-bc11-4fef-ca2a-e081ae6c6263"
      },
      "execution_count": null,
      "outputs": [
        {
          "output_type": "execute_result",
          "data": {
            "text/plain": [
              "                  Open        High         Low       Close   Adj Close  \\\n",
              "Date                                                                     \n",
              "2016-01-04  129.636703  129.990433  128.336517  129.971313   89.534294   \n",
              "2016-01-05  130.745697  130.869980  128.919693  129.875717   89.468452   \n",
              "2016-01-06  128.470367  129.617584  127.743790  129.225616   89.020607   \n",
              "2016-01-07  127.820267  129.082214  126.606117  127.017204   87.499275   \n",
              "2016-01-08  127.323135  127.934990  125.544930  125.841301   86.689217   \n",
              "...                ...         ...         ...         ...         ...   \n",
              "2016-12-23  159.655838  160.124283  159.130020  159.378586  113.976036   \n",
              "2016-12-27  159.636703  160.592728  159.512421  159.789673  114.269981   \n",
              "2016-12-28  159.933075  160.363297  158.699814  158.881454  113.620491   \n",
              "2016-12-29  158.718933  159.646271  158.699814  159.273422  113.900818   \n",
              "2016-12-30  159.120453  159.369019  158.221802  158.690247  113.483749   \n",
              "\n",
              "             Volume  \n",
              "Date                 \n",
              "2016-01-04  5469952  \n",
              "2016-01-05  4105341  \n",
              "2016-01-06  4509201  \n",
              "2016-01-07  7348987  \n",
              "2016-01-08  4981784  \n",
              "...             ...  \n",
              "2016-12-23  1779455  \n",
              "2016-12-27  1461785  \n",
              "2016-12-28  1838345  \n",
              "2016-12-29  1740021  \n",
              "2016-12-30  3088629  \n",
              "\n",
              "[252 rows x 6 columns]"
            ],
            "text/html": [
              "\n",
              "  <div id=\"df-92b83d18-adfe-4c13-8b78-6282f0131448\" class=\"colab-df-container\">\n",
              "    <div>\n",
              "<style scoped>\n",
              "    .dataframe tbody tr th:only-of-type {\n",
              "        vertical-align: middle;\n",
              "    }\n",
              "\n",
              "    .dataframe tbody tr th {\n",
              "        vertical-align: top;\n",
              "    }\n",
              "\n",
              "    .dataframe thead th {\n",
              "        text-align: right;\n",
              "    }\n",
              "</style>\n",
              "<table border=\"1\" class=\"dataframe\">\n",
              "  <thead>\n",
              "    <tr style=\"text-align: right;\">\n",
              "      <th></th>\n",
              "      <th>Open</th>\n",
              "      <th>High</th>\n",
              "      <th>Low</th>\n",
              "      <th>Close</th>\n",
              "      <th>Adj Close</th>\n",
              "      <th>Volume</th>\n",
              "    </tr>\n",
              "    <tr>\n",
              "      <th>Date</th>\n",
              "      <th></th>\n",
              "      <th></th>\n",
              "      <th></th>\n",
              "      <th></th>\n",
              "      <th></th>\n",
              "      <th></th>\n",
              "    </tr>\n",
              "  </thead>\n",
              "  <tbody>\n",
              "    <tr>\n",
              "      <th>2016-01-04</th>\n",
              "      <td>129.636703</td>\n",
              "      <td>129.990433</td>\n",
              "      <td>128.336517</td>\n",
              "      <td>129.971313</td>\n",
              "      <td>89.534294</td>\n",
              "      <td>5469952</td>\n",
              "    </tr>\n",
              "    <tr>\n",
              "      <th>2016-01-05</th>\n",
              "      <td>130.745697</td>\n",
              "      <td>130.869980</td>\n",
              "      <td>128.919693</td>\n",
              "      <td>129.875717</td>\n",
              "      <td>89.468452</td>\n",
              "      <td>4105341</td>\n",
              "    </tr>\n",
              "    <tr>\n",
              "      <th>2016-01-06</th>\n",
              "      <td>128.470367</td>\n",
              "      <td>129.617584</td>\n",
              "      <td>127.743790</td>\n",
              "      <td>129.225616</td>\n",
              "      <td>89.020607</td>\n",
              "      <td>4509201</td>\n",
              "    </tr>\n",
              "    <tr>\n",
              "      <th>2016-01-07</th>\n",
              "      <td>127.820267</td>\n",
              "      <td>129.082214</td>\n",
              "      <td>126.606117</td>\n",
              "      <td>127.017204</td>\n",
              "      <td>87.499275</td>\n",
              "      <td>7348987</td>\n",
              "    </tr>\n",
              "    <tr>\n",
              "      <th>2016-01-08</th>\n",
              "      <td>127.323135</td>\n",
              "      <td>127.934990</td>\n",
              "      <td>125.544930</td>\n",
              "      <td>125.841301</td>\n",
              "      <td>86.689217</td>\n",
              "      <td>4981784</td>\n",
              "    </tr>\n",
              "    <tr>\n",
              "      <th>...</th>\n",
              "      <td>...</td>\n",
              "      <td>...</td>\n",
              "      <td>...</td>\n",
              "      <td>...</td>\n",
              "      <td>...</td>\n",
              "      <td>...</td>\n",
              "    </tr>\n",
              "    <tr>\n",
              "      <th>2016-12-23</th>\n",
              "      <td>159.655838</td>\n",
              "      <td>160.124283</td>\n",
              "      <td>159.130020</td>\n",
              "      <td>159.378586</td>\n",
              "      <td>113.976036</td>\n",
              "      <td>1779455</td>\n",
              "    </tr>\n",
              "    <tr>\n",
              "      <th>2016-12-27</th>\n",
              "      <td>159.636703</td>\n",
              "      <td>160.592728</td>\n",
              "      <td>159.512421</td>\n",
              "      <td>159.789673</td>\n",
              "      <td>114.269981</td>\n",
              "      <td>1461785</td>\n",
              "    </tr>\n",
              "    <tr>\n",
              "      <th>2016-12-28</th>\n",
              "      <td>159.933075</td>\n",
              "      <td>160.363297</td>\n",
              "      <td>158.699814</td>\n",
              "      <td>158.881454</td>\n",
              "      <td>113.620491</td>\n",
              "      <td>1838345</td>\n",
              "    </tr>\n",
              "    <tr>\n",
              "      <th>2016-12-29</th>\n",
              "      <td>158.718933</td>\n",
              "      <td>159.646271</td>\n",
              "      <td>158.699814</td>\n",
              "      <td>159.273422</td>\n",
              "      <td>113.900818</td>\n",
              "      <td>1740021</td>\n",
              "    </tr>\n",
              "    <tr>\n",
              "      <th>2016-12-30</th>\n",
              "      <td>159.120453</td>\n",
              "      <td>159.369019</td>\n",
              "      <td>158.221802</td>\n",
              "      <td>158.690247</td>\n",
              "      <td>113.483749</td>\n",
              "      <td>3088629</td>\n",
              "    </tr>\n",
              "  </tbody>\n",
              "</table>\n",
              "<p>252 rows × 6 columns</p>\n",
              "</div>\n",
              "    <div class=\"colab-df-buttons\">\n",
              "\n",
              "  <div class=\"colab-df-container\">\n",
              "    <button class=\"colab-df-convert\" onclick=\"convertToInteractive('df-92b83d18-adfe-4c13-8b78-6282f0131448')\"\n",
              "            title=\"Convert this dataframe to an interactive table.\"\n",
              "            style=\"display:none;\">\n",
              "\n",
              "  <svg xmlns=\"http://www.w3.org/2000/svg\" height=\"24px\" viewBox=\"0 -960 960 960\">\n",
              "    <path d=\"M120-120v-720h720v720H120Zm60-500h600v-160H180v160Zm220 220h160v-160H400v160Zm0 220h160v-160H400v160ZM180-400h160v-160H180v160Zm440 0h160v-160H620v160ZM180-180h160v-160H180v160Zm440 0h160v-160H620v160Z\"/>\n",
              "  </svg>\n",
              "    </button>\n",
              "\n",
              "  <style>\n",
              "    .colab-df-container {\n",
              "      display:flex;\n",
              "      gap: 12px;\n",
              "    }\n",
              "\n",
              "    .colab-df-convert {\n",
              "      background-color: #E8F0FE;\n",
              "      border: none;\n",
              "      border-radius: 50%;\n",
              "      cursor: pointer;\n",
              "      display: none;\n",
              "      fill: #1967D2;\n",
              "      height: 32px;\n",
              "      padding: 0 0 0 0;\n",
              "      width: 32px;\n",
              "    }\n",
              "\n",
              "    .colab-df-convert:hover {\n",
              "      background-color: #E2EBFA;\n",
              "      box-shadow: 0px 1px 2px rgba(60, 64, 67, 0.3), 0px 1px 3px 1px rgba(60, 64, 67, 0.15);\n",
              "      fill: #174EA6;\n",
              "    }\n",
              "\n",
              "    .colab-df-buttons div {\n",
              "      margin-bottom: 4px;\n",
              "    }\n",
              "\n",
              "    [theme=dark] .colab-df-convert {\n",
              "      background-color: #3B4455;\n",
              "      fill: #D2E3FC;\n",
              "    }\n",
              "\n",
              "    [theme=dark] .colab-df-convert:hover {\n",
              "      background-color: #434B5C;\n",
              "      box-shadow: 0px 1px 3px 1px rgba(0, 0, 0, 0.15);\n",
              "      filter: drop-shadow(0px 1px 2px rgba(0, 0, 0, 0.3));\n",
              "      fill: #FFFFFF;\n",
              "    }\n",
              "  </style>\n",
              "\n",
              "    <script>\n",
              "      const buttonEl =\n",
              "        document.querySelector('#df-92b83d18-adfe-4c13-8b78-6282f0131448 button.colab-df-convert');\n",
              "      buttonEl.style.display =\n",
              "        google.colab.kernel.accessAllowed ? 'block' : 'none';\n",
              "\n",
              "      async function convertToInteractive(key) {\n",
              "        const element = document.querySelector('#df-92b83d18-adfe-4c13-8b78-6282f0131448');\n",
              "        const dataTable =\n",
              "          await google.colab.kernel.invokeFunction('convertToInteractive',\n",
              "                                                    [key], {});\n",
              "        if (!dataTable) return;\n",
              "\n",
              "        const docLinkHtml = 'Like what you see? Visit the ' +\n",
              "          '<a target=\"_blank\" href=https://colab.research.google.com/notebooks/data_table.ipynb>data table notebook</a>'\n",
              "          + ' to learn more about interactive tables.';\n",
              "        element.innerHTML = '';\n",
              "        dataTable['output_type'] = 'display_data';\n",
              "        await google.colab.output.renderOutput(dataTable, element);\n",
              "        const docLink = document.createElement('div');\n",
              "        docLink.innerHTML = docLinkHtml;\n",
              "        element.appendChild(docLink);\n",
              "      }\n",
              "    </script>\n",
              "  </div>\n",
              "\n",
              "\n",
              "<div id=\"df-a78ca4e3-0c25-465d-88ac-e34dacde6b6b\">\n",
              "  <button class=\"colab-df-quickchart\" onclick=\"quickchart('df-a78ca4e3-0c25-465d-88ac-e34dacde6b6b')\"\n",
              "            title=\"Suggest charts\"\n",
              "            style=\"display:none;\">\n",
              "\n",
              "<svg xmlns=\"http://www.w3.org/2000/svg\" height=\"24px\"viewBox=\"0 0 24 24\"\n",
              "     width=\"24px\">\n",
              "    <g>\n",
              "        <path d=\"M19 3H5c-1.1 0-2 .9-2 2v14c0 1.1.9 2 2 2h14c1.1 0 2-.9 2-2V5c0-1.1-.9-2-2-2zM9 17H7v-7h2v7zm4 0h-2V7h2v10zm4 0h-2v-4h2v4z\"/>\n",
              "    </g>\n",
              "</svg>\n",
              "  </button>\n",
              "\n",
              "<style>\n",
              "  .colab-df-quickchart {\n",
              "      --bg-color: #E8F0FE;\n",
              "      --fill-color: #1967D2;\n",
              "      --hover-bg-color: #E2EBFA;\n",
              "      --hover-fill-color: #174EA6;\n",
              "      --disabled-fill-color: #AAA;\n",
              "      --disabled-bg-color: #DDD;\n",
              "  }\n",
              "\n",
              "  [theme=dark] .colab-df-quickchart {\n",
              "      --bg-color: #3B4455;\n",
              "      --fill-color: #D2E3FC;\n",
              "      --hover-bg-color: #434B5C;\n",
              "      --hover-fill-color: #FFFFFF;\n",
              "      --disabled-bg-color: #3B4455;\n",
              "      --disabled-fill-color: #666;\n",
              "  }\n",
              "\n",
              "  .colab-df-quickchart {\n",
              "    background-color: var(--bg-color);\n",
              "    border: none;\n",
              "    border-radius: 50%;\n",
              "    cursor: pointer;\n",
              "    display: none;\n",
              "    fill: var(--fill-color);\n",
              "    height: 32px;\n",
              "    padding: 0;\n",
              "    width: 32px;\n",
              "  }\n",
              "\n",
              "  .colab-df-quickchart:hover {\n",
              "    background-color: var(--hover-bg-color);\n",
              "    box-shadow: 0 1px 2px rgba(60, 64, 67, 0.3), 0 1px 3px 1px rgba(60, 64, 67, 0.15);\n",
              "    fill: var(--button-hover-fill-color);\n",
              "  }\n",
              "\n",
              "  .colab-df-quickchart-complete:disabled,\n",
              "  .colab-df-quickchart-complete:disabled:hover {\n",
              "    background-color: var(--disabled-bg-color);\n",
              "    fill: var(--disabled-fill-color);\n",
              "    box-shadow: none;\n",
              "  }\n",
              "\n",
              "  .colab-df-spinner {\n",
              "    border: 2px solid var(--fill-color);\n",
              "    border-color: transparent;\n",
              "    border-bottom-color: var(--fill-color);\n",
              "    animation:\n",
              "      spin 1s steps(1) infinite;\n",
              "  }\n",
              "\n",
              "  @keyframes spin {\n",
              "    0% {\n",
              "      border-color: transparent;\n",
              "      border-bottom-color: var(--fill-color);\n",
              "      border-left-color: var(--fill-color);\n",
              "    }\n",
              "    20% {\n",
              "      border-color: transparent;\n",
              "      border-left-color: var(--fill-color);\n",
              "      border-top-color: var(--fill-color);\n",
              "    }\n",
              "    30% {\n",
              "      border-color: transparent;\n",
              "      border-left-color: var(--fill-color);\n",
              "      border-top-color: var(--fill-color);\n",
              "      border-right-color: var(--fill-color);\n",
              "    }\n",
              "    40% {\n",
              "      border-color: transparent;\n",
              "      border-right-color: var(--fill-color);\n",
              "      border-top-color: var(--fill-color);\n",
              "    }\n",
              "    60% {\n",
              "      border-color: transparent;\n",
              "      border-right-color: var(--fill-color);\n",
              "    }\n",
              "    80% {\n",
              "      border-color: transparent;\n",
              "      border-right-color: var(--fill-color);\n",
              "      border-bottom-color: var(--fill-color);\n",
              "    }\n",
              "    90% {\n",
              "      border-color: transparent;\n",
              "      border-bottom-color: var(--fill-color);\n",
              "    }\n",
              "  }\n",
              "</style>\n",
              "\n",
              "  <script>\n",
              "    async function quickchart(key) {\n",
              "      const quickchartButtonEl =\n",
              "        document.querySelector('#' + key + ' button');\n",
              "      quickchartButtonEl.disabled = true;  // To prevent multiple clicks.\n",
              "      quickchartButtonEl.classList.add('colab-df-spinner');\n",
              "      try {\n",
              "        const charts = await google.colab.kernel.invokeFunction(\n",
              "            'suggestCharts', [key], {});\n",
              "      } catch (error) {\n",
              "        console.error('Error during call to suggestCharts:', error);\n",
              "      }\n",
              "      quickchartButtonEl.classList.remove('colab-df-spinner');\n",
              "      quickchartButtonEl.classList.add('colab-df-quickchart-complete');\n",
              "    }\n",
              "    (() => {\n",
              "      let quickchartButtonEl =\n",
              "        document.querySelector('#df-a78ca4e3-0c25-465d-88ac-e34dacde6b6b button');\n",
              "      quickchartButtonEl.style.display =\n",
              "        google.colab.kernel.accessAllowed ? 'block' : 'none';\n",
              "    })();\n",
              "  </script>\n",
              "</div>\n",
              "\n",
              "  <div id=\"id_ab6754cb-abda-4a6a-9b0d-1d8fb0d56763\">\n",
              "    <style>\n",
              "      .colab-df-generate {\n",
              "        background-color: #E8F0FE;\n",
              "        border: none;\n",
              "        border-radius: 50%;\n",
              "        cursor: pointer;\n",
              "        display: none;\n",
              "        fill: #1967D2;\n",
              "        height: 32px;\n",
              "        padding: 0 0 0 0;\n",
              "        width: 32px;\n",
              "      }\n",
              "\n",
              "      .colab-df-generate:hover {\n",
              "        background-color: #E2EBFA;\n",
              "        box-shadow: 0px 1px 2px rgba(60, 64, 67, 0.3), 0px 1px 3px 1px rgba(60, 64, 67, 0.15);\n",
              "        fill: #174EA6;\n",
              "      }\n",
              "\n",
              "      [theme=dark] .colab-df-generate {\n",
              "        background-color: #3B4455;\n",
              "        fill: #D2E3FC;\n",
              "      }\n",
              "\n",
              "      [theme=dark] .colab-df-generate:hover {\n",
              "        background-color: #434B5C;\n",
              "        box-shadow: 0px 1px 3px 1px rgba(0, 0, 0, 0.15);\n",
              "        filter: drop-shadow(0px 1px 2px rgba(0, 0, 0, 0.3));\n",
              "        fill: #FFFFFF;\n",
              "      }\n",
              "    </style>\n",
              "    <button class=\"colab-df-generate\" onclick=\"generateWithVariable('df1')\"\n",
              "            title=\"Generate code using this dataframe.\"\n",
              "            style=\"display:none;\">\n",
              "\n",
              "  <svg xmlns=\"http://www.w3.org/2000/svg\" height=\"24px\"viewBox=\"0 0 24 24\"\n",
              "       width=\"24px\">\n",
              "    <path d=\"M7,19H8.4L18.45,9,17,7.55,7,17.6ZM5,21V16.75L18.45,3.32a2,2,0,0,1,2.83,0l1.4,1.43a1.91,1.91,0,0,1,.58,1.4,1.91,1.91,0,0,1-.58,1.4L9.25,21ZM18.45,9,17,7.55Zm-12,3A5.31,5.31,0,0,0,4.9,8.1,5.31,5.31,0,0,0,1,6.5,5.31,5.31,0,0,0,4.9,4.9,5.31,5.31,0,0,0,6.5,1,5.31,5.31,0,0,0,8.1,4.9,5.31,5.31,0,0,0,12,6.5,5.46,5.46,0,0,0,6.5,12Z\"/>\n",
              "  </svg>\n",
              "    </button>\n",
              "    <script>\n",
              "      (() => {\n",
              "      const buttonEl =\n",
              "        document.querySelector('#id_ab6754cb-abda-4a6a-9b0d-1d8fb0d56763 button.colab-df-generate');\n",
              "      buttonEl.style.display =\n",
              "        google.colab.kernel.accessAllowed ? 'block' : 'none';\n",
              "\n",
              "      buttonEl.onclick = () => {\n",
              "        google.colab.notebook.generateWithVariable('df1');\n",
              "      }\n",
              "      })();\n",
              "    </script>\n",
              "  </div>\n",
              "\n",
              "    </div>\n",
              "  </div>\n"
            ],
            "application/vnd.google.colaboratory.intrinsic+json": {
              "type": "dataframe",
              "variable_name": "df1",
              "summary": "{\n  \"name\": \"df1\",\n  \"rows\": 252,\n  \"fields\": [\n    {\n      \"column\": \"Date\",\n      \"properties\": {\n        \"dtype\": \"date\",\n        \"min\": \"2016-01-04 00:00:00\",\n        \"max\": \"2016-12-30 00:00:00\",\n        \"num_unique_values\": 252,\n        \"samples\": [\n          \"2016-08-29 00:00:00\",\n          \"2016-01-12 00:00:00\",\n          \"2016-06-13 00:00:00\"\n        ],\n        \"semantic_type\": \"\",\n        \"description\": \"\"\n      }\n    },\n    {\n      \"column\": \"Open\",\n      \"properties\": {\n        \"dtype\": \"number\",\n        \"std\": 11.329828066454946,\n        \"min\": 113.25048065185547,\n        \"max\": 161.53919982910156,\n        \"num_unique_values\": 242,\n        \"samples\": [\n          120.45889282226562,\n          127.77246856689453,\n          154.0248565673828\n        ],\n        \"semantic_type\": \"\",\n        \"description\": \"\"\n      }\n    },\n    {\n      \"column\": \"High\",\n      \"properties\": {\n        \"dtype\": \"number\",\n        \"std\": 11.146713138589575,\n        \"min\": 114.397705078125,\n        \"max\": 162.47610473632812,\n        \"num_unique_values\": 239,\n        \"samples\": [\n          121.34799194335938,\n          128.374755859375,\n          141.44358825683594\n        ],\n        \"semantic_type\": \"\",\n        \"description\": \"\"\n      }\n    },\n    {\n      \"column\": \"Low\",\n      \"properties\": {\n        \"dtype\": \"number\",\n        \"std\": 11.46582209570701,\n        \"min\": 111.75907897949219,\n        \"max\": 160.4015350341797,\n        \"num_unique_values\": 240,\n        \"samples\": [\n          118.67112731933594,\n          125.36328887939453,\n          137.62905883789062\n        ],\n        \"semantic_type\": \"\",\n        \"description\": \"\"\n      }\n    },\n    {\n      \"column\": \"Close\",\n      \"properties\": {\n        \"dtype\": \"number\",\n        \"std\": 11.280085968878563,\n        \"min\": 112.66730499267578,\n        \"max\": 161.09942626953125,\n        \"num_unique_values\": 240,\n        \"samples\": [\n          121.39579010009766,\n          127.05545043945312,\n          138.55641174316406\n        ],\n        \"semantic_type\": \"\",\n        \"description\": \"\"\n      }\n    },\n    {\n      \"column\": \"Adj Close\",\n      \"properties\": {\n        \"dtype\": \"number\",\n        \"std\": 8.846671043348092,\n        \"min\": 78.40673828125,\n        \"max\": 115.20664978027344,\n        \"num_unique_values\": 246,\n        \"samples\": [\n          88.99845886230469,\n          87.52562713623047,\n          106.21665954589844\n        ],\n        \"semantic_type\": \"\",\n        \"description\": \"\"\n      }\n    },\n    {\n      \"column\": \"Volume\",\n      \"properties\": {\n        \"dtype\": \"number\",\n        \"std\": 2087655,\n        \"min\": 1461785,\n        \"max\": 16901059,\n        \"num_unique_values\": 251,\n        \"samples\": [\n          2311869,\n          5312320,\n          2589791\n        ],\n        \"semantic_type\": \"\",\n        \"description\": \"\"\n      }\n    }\n  ]\n}"
            }
          },
          "metadata": {},
          "execution_count": 48
        }
      ]
    },
    {
      "cell_type": "code",
      "source": [
        "df2 = pdr.get_data_yahoo(\"GOOG\", start=TRAIN_START, end=TRAIN_END) #Google金融データ読み込む"
      ],
      "metadata": {
        "colab": {
          "base_uri": "https://localhost:8080/"
        },
        "id": "Krfdqk4AjX34",
        "outputId": "8fe46538-0cd0-4634-8478-bc7edb5b0520"
      },
      "execution_count": null,
      "outputs": [
        {
          "output_type": "stream",
          "name": "stderr",
          "text": [
            "\r[*********************100%%**********************]  1 of 1 completed\n"
          ]
        }
      ]
    },
    {
      "cell_type": "code",
      "source": [
        "df2"
      ],
      "metadata": {
        "colab": {
          "base_uri": "https://localhost:8080/",
          "height": 628
        },
        "id": "Fpqvu-k8jge8",
        "outputId": "581f0fa2-62bd-418d-c1fa-5a8e7921f995"
      },
      "execution_count": null,
      "outputs": [
        {
          "output_type": "execute_result",
          "data": {
            "text/plain": [
              "                 Open       High        Low      Close  Adj Close    Volume\n",
              "Date                                                                       \n",
              "2016-01-04  37.150002  37.202999  36.562901  37.091999  37.091999  65456000\n",
              "2016-01-05  37.322498  37.599998  36.931999  37.129002  37.129002  39014000\n",
              "2016-01-06  36.500000  37.359001  36.445999  37.181000  37.181000  38940000\n",
              "2016-01-07  36.515499  36.924999  35.952999  36.319500  36.319500  59274000\n",
              "2016-01-08  36.572498  36.661499  35.650002  35.723499  35.723499  49018000\n",
              "...               ...        ...        ...        ...        ...       ...\n",
              "2016-12-23  39.544998  39.637001  39.363998  39.495499  39.495499  12468000\n",
              "2016-12-27  39.534000  39.893002  39.382851  39.577499  39.577499  15782000\n",
              "2016-12-28  39.685001  39.711498  39.160000  39.252499  39.252499  23076000\n",
              "2016-12-29  39.166500  39.296501  38.945999  39.139500  39.139500  14886000\n",
              "2016-12-30  39.137501  39.139000  38.520500  38.591000  38.591000  35400000\n",
              "\n",
              "[252 rows x 6 columns]"
            ],
            "text/html": [
              "\n",
              "  <div id=\"df-5c71e87c-5dfd-4daa-b782-8ae9ab7c8d24\" class=\"colab-df-container\">\n",
              "    <div>\n",
              "<style scoped>\n",
              "    .dataframe tbody tr th:only-of-type {\n",
              "        vertical-align: middle;\n",
              "    }\n",
              "\n",
              "    .dataframe tbody tr th {\n",
              "        vertical-align: top;\n",
              "    }\n",
              "\n",
              "    .dataframe thead th {\n",
              "        text-align: right;\n",
              "    }\n",
              "</style>\n",
              "<table border=\"1\" class=\"dataframe\">\n",
              "  <thead>\n",
              "    <tr style=\"text-align: right;\">\n",
              "      <th></th>\n",
              "      <th>Open</th>\n",
              "      <th>High</th>\n",
              "      <th>Low</th>\n",
              "      <th>Close</th>\n",
              "      <th>Adj Close</th>\n",
              "      <th>Volume</th>\n",
              "    </tr>\n",
              "    <tr>\n",
              "      <th>Date</th>\n",
              "      <th></th>\n",
              "      <th></th>\n",
              "      <th></th>\n",
              "      <th></th>\n",
              "      <th></th>\n",
              "      <th></th>\n",
              "    </tr>\n",
              "  </thead>\n",
              "  <tbody>\n",
              "    <tr>\n",
              "      <th>2016-01-04</th>\n",
              "      <td>37.150002</td>\n",
              "      <td>37.202999</td>\n",
              "      <td>36.562901</td>\n",
              "      <td>37.091999</td>\n",
              "      <td>37.091999</td>\n",
              "      <td>65456000</td>\n",
              "    </tr>\n",
              "    <tr>\n",
              "      <th>2016-01-05</th>\n",
              "      <td>37.322498</td>\n",
              "      <td>37.599998</td>\n",
              "      <td>36.931999</td>\n",
              "      <td>37.129002</td>\n",
              "      <td>37.129002</td>\n",
              "      <td>39014000</td>\n",
              "    </tr>\n",
              "    <tr>\n",
              "      <th>2016-01-06</th>\n",
              "      <td>36.500000</td>\n",
              "      <td>37.359001</td>\n",
              "      <td>36.445999</td>\n",
              "      <td>37.181000</td>\n",
              "      <td>37.181000</td>\n",
              "      <td>38940000</td>\n",
              "    </tr>\n",
              "    <tr>\n",
              "      <th>2016-01-07</th>\n",
              "      <td>36.515499</td>\n",
              "      <td>36.924999</td>\n",
              "      <td>35.952999</td>\n",
              "      <td>36.319500</td>\n",
              "      <td>36.319500</td>\n",
              "      <td>59274000</td>\n",
              "    </tr>\n",
              "    <tr>\n",
              "      <th>2016-01-08</th>\n",
              "      <td>36.572498</td>\n",
              "      <td>36.661499</td>\n",
              "      <td>35.650002</td>\n",
              "      <td>35.723499</td>\n",
              "      <td>35.723499</td>\n",
              "      <td>49018000</td>\n",
              "    </tr>\n",
              "    <tr>\n",
              "      <th>...</th>\n",
              "      <td>...</td>\n",
              "      <td>...</td>\n",
              "      <td>...</td>\n",
              "      <td>...</td>\n",
              "      <td>...</td>\n",
              "      <td>...</td>\n",
              "    </tr>\n",
              "    <tr>\n",
              "      <th>2016-12-23</th>\n",
              "      <td>39.544998</td>\n",
              "      <td>39.637001</td>\n",
              "      <td>39.363998</td>\n",
              "      <td>39.495499</td>\n",
              "      <td>39.495499</td>\n",
              "      <td>12468000</td>\n",
              "    </tr>\n",
              "    <tr>\n",
              "      <th>2016-12-27</th>\n",
              "      <td>39.534000</td>\n",
              "      <td>39.893002</td>\n",
              "      <td>39.382851</td>\n",
              "      <td>39.577499</td>\n",
              "      <td>39.577499</td>\n",
              "      <td>15782000</td>\n",
              "    </tr>\n",
              "    <tr>\n",
              "      <th>2016-12-28</th>\n",
              "      <td>39.685001</td>\n",
              "      <td>39.711498</td>\n",
              "      <td>39.160000</td>\n",
              "      <td>39.252499</td>\n",
              "      <td>39.252499</td>\n",
              "      <td>23076000</td>\n",
              "    </tr>\n",
              "    <tr>\n",
              "      <th>2016-12-29</th>\n",
              "      <td>39.166500</td>\n",
              "      <td>39.296501</td>\n",
              "      <td>38.945999</td>\n",
              "      <td>39.139500</td>\n",
              "      <td>39.139500</td>\n",
              "      <td>14886000</td>\n",
              "    </tr>\n",
              "    <tr>\n",
              "      <th>2016-12-30</th>\n",
              "      <td>39.137501</td>\n",
              "      <td>39.139000</td>\n",
              "      <td>38.520500</td>\n",
              "      <td>38.591000</td>\n",
              "      <td>38.591000</td>\n",
              "      <td>35400000</td>\n",
              "    </tr>\n",
              "  </tbody>\n",
              "</table>\n",
              "<p>252 rows × 6 columns</p>\n",
              "</div>\n",
              "    <div class=\"colab-df-buttons\">\n",
              "\n",
              "  <div class=\"colab-df-container\">\n",
              "    <button class=\"colab-df-convert\" onclick=\"convertToInteractive('df-5c71e87c-5dfd-4daa-b782-8ae9ab7c8d24')\"\n",
              "            title=\"Convert this dataframe to an interactive table.\"\n",
              "            style=\"display:none;\">\n",
              "\n",
              "  <svg xmlns=\"http://www.w3.org/2000/svg\" height=\"24px\" viewBox=\"0 -960 960 960\">\n",
              "    <path d=\"M120-120v-720h720v720H120Zm60-500h600v-160H180v160Zm220 220h160v-160H400v160Zm0 220h160v-160H400v160ZM180-400h160v-160H180v160Zm440 0h160v-160H620v160ZM180-180h160v-160H180v160Zm440 0h160v-160H620v160Z\"/>\n",
              "  </svg>\n",
              "    </button>\n",
              "\n",
              "  <style>\n",
              "    .colab-df-container {\n",
              "      display:flex;\n",
              "      gap: 12px;\n",
              "    }\n",
              "\n",
              "    .colab-df-convert {\n",
              "      background-color: #E8F0FE;\n",
              "      border: none;\n",
              "      border-radius: 50%;\n",
              "      cursor: pointer;\n",
              "      display: none;\n",
              "      fill: #1967D2;\n",
              "      height: 32px;\n",
              "      padding: 0 0 0 0;\n",
              "      width: 32px;\n",
              "    }\n",
              "\n",
              "    .colab-df-convert:hover {\n",
              "      background-color: #E2EBFA;\n",
              "      box-shadow: 0px 1px 2px rgba(60, 64, 67, 0.3), 0px 1px 3px 1px rgba(60, 64, 67, 0.15);\n",
              "      fill: #174EA6;\n",
              "    }\n",
              "\n",
              "    .colab-df-buttons div {\n",
              "      margin-bottom: 4px;\n",
              "    }\n",
              "\n",
              "    [theme=dark] .colab-df-convert {\n",
              "      background-color: #3B4455;\n",
              "      fill: #D2E3FC;\n",
              "    }\n",
              "\n",
              "    [theme=dark] .colab-df-convert:hover {\n",
              "      background-color: #434B5C;\n",
              "      box-shadow: 0px 1px 3px 1px rgba(0, 0, 0, 0.15);\n",
              "      filter: drop-shadow(0px 1px 2px rgba(0, 0, 0, 0.3));\n",
              "      fill: #FFFFFF;\n",
              "    }\n",
              "  </style>\n",
              "\n",
              "    <script>\n",
              "      const buttonEl =\n",
              "        document.querySelector('#df-5c71e87c-5dfd-4daa-b782-8ae9ab7c8d24 button.colab-df-convert');\n",
              "      buttonEl.style.display =\n",
              "        google.colab.kernel.accessAllowed ? 'block' : 'none';\n",
              "\n",
              "      async function convertToInteractive(key) {\n",
              "        const element = document.querySelector('#df-5c71e87c-5dfd-4daa-b782-8ae9ab7c8d24');\n",
              "        const dataTable =\n",
              "          await google.colab.kernel.invokeFunction('convertToInteractive',\n",
              "                                                    [key], {});\n",
              "        if (!dataTable) return;\n",
              "\n",
              "        const docLinkHtml = 'Like what you see? Visit the ' +\n",
              "          '<a target=\"_blank\" href=https://colab.research.google.com/notebooks/data_table.ipynb>data table notebook</a>'\n",
              "          + ' to learn more about interactive tables.';\n",
              "        element.innerHTML = '';\n",
              "        dataTable['output_type'] = 'display_data';\n",
              "        await google.colab.output.renderOutput(dataTable, element);\n",
              "        const docLink = document.createElement('div');\n",
              "        docLink.innerHTML = docLinkHtml;\n",
              "        element.appendChild(docLink);\n",
              "      }\n",
              "    </script>\n",
              "  </div>\n",
              "\n",
              "\n",
              "<div id=\"df-1739c4c9-0751-4411-aa0e-151f28b31a21\">\n",
              "  <button class=\"colab-df-quickchart\" onclick=\"quickchart('df-1739c4c9-0751-4411-aa0e-151f28b31a21')\"\n",
              "            title=\"Suggest charts\"\n",
              "            style=\"display:none;\">\n",
              "\n",
              "<svg xmlns=\"http://www.w3.org/2000/svg\" height=\"24px\"viewBox=\"0 0 24 24\"\n",
              "     width=\"24px\">\n",
              "    <g>\n",
              "        <path d=\"M19 3H5c-1.1 0-2 .9-2 2v14c0 1.1.9 2 2 2h14c1.1 0 2-.9 2-2V5c0-1.1-.9-2-2-2zM9 17H7v-7h2v7zm4 0h-2V7h2v10zm4 0h-2v-4h2v4z\"/>\n",
              "    </g>\n",
              "</svg>\n",
              "  </button>\n",
              "\n",
              "<style>\n",
              "  .colab-df-quickchart {\n",
              "      --bg-color: #E8F0FE;\n",
              "      --fill-color: #1967D2;\n",
              "      --hover-bg-color: #E2EBFA;\n",
              "      --hover-fill-color: #174EA6;\n",
              "      --disabled-fill-color: #AAA;\n",
              "      --disabled-bg-color: #DDD;\n",
              "  }\n",
              "\n",
              "  [theme=dark] .colab-df-quickchart {\n",
              "      --bg-color: #3B4455;\n",
              "      --fill-color: #D2E3FC;\n",
              "      --hover-bg-color: #434B5C;\n",
              "      --hover-fill-color: #FFFFFF;\n",
              "      --disabled-bg-color: #3B4455;\n",
              "      --disabled-fill-color: #666;\n",
              "  }\n",
              "\n",
              "  .colab-df-quickchart {\n",
              "    background-color: var(--bg-color);\n",
              "    border: none;\n",
              "    border-radius: 50%;\n",
              "    cursor: pointer;\n",
              "    display: none;\n",
              "    fill: var(--fill-color);\n",
              "    height: 32px;\n",
              "    padding: 0;\n",
              "    width: 32px;\n",
              "  }\n",
              "\n",
              "  .colab-df-quickchart:hover {\n",
              "    background-color: var(--hover-bg-color);\n",
              "    box-shadow: 0 1px 2px rgba(60, 64, 67, 0.3), 0 1px 3px 1px rgba(60, 64, 67, 0.15);\n",
              "    fill: var(--button-hover-fill-color);\n",
              "  }\n",
              "\n",
              "  .colab-df-quickchart-complete:disabled,\n",
              "  .colab-df-quickchart-complete:disabled:hover {\n",
              "    background-color: var(--disabled-bg-color);\n",
              "    fill: var(--disabled-fill-color);\n",
              "    box-shadow: none;\n",
              "  }\n",
              "\n",
              "  .colab-df-spinner {\n",
              "    border: 2px solid var(--fill-color);\n",
              "    border-color: transparent;\n",
              "    border-bottom-color: var(--fill-color);\n",
              "    animation:\n",
              "      spin 1s steps(1) infinite;\n",
              "  }\n",
              "\n",
              "  @keyframes spin {\n",
              "    0% {\n",
              "      border-color: transparent;\n",
              "      border-bottom-color: var(--fill-color);\n",
              "      border-left-color: var(--fill-color);\n",
              "    }\n",
              "    20% {\n",
              "      border-color: transparent;\n",
              "      border-left-color: var(--fill-color);\n",
              "      border-top-color: var(--fill-color);\n",
              "    }\n",
              "    30% {\n",
              "      border-color: transparent;\n",
              "      border-left-color: var(--fill-color);\n",
              "      border-top-color: var(--fill-color);\n",
              "      border-right-color: var(--fill-color);\n",
              "    }\n",
              "    40% {\n",
              "      border-color: transparent;\n",
              "      border-right-color: var(--fill-color);\n",
              "      border-top-color: var(--fill-color);\n",
              "    }\n",
              "    60% {\n",
              "      border-color: transparent;\n",
              "      border-right-color: var(--fill-color);\n",
              "    }\n",
              "    80% {\n",
              "      border-color: transparent;\n",
              "      border-right-color: var(--fill-color);\n",
              "      border-bottom-color: var(--fill-color);\n",
              "    }\n",
              "    90% {\n",
              "      border-color: transparent;\n",
              "      border-bottom-color: var(--fill-color);\n",
              "    }\n",
              "  }\n",
              "</style>\n",
              "\n",
              "  <script>\n",
              "    async function quickchart(key) {\n",
              "      const quickchartButtonEl =\n",
              "        document.querySelector('#' + key + ' button');\n",
              "      quickchartButtonEl.disabled = true;  // To prevent multiple clicks.\n",
              "      quickchartButtonEl.classList.add('colab-df-spinner');\n",
              "      try {\n",
              "        const charts = await google.colab.kernel.invokeFunction(\n",
              "            'suggestCharts', [key], {});\n",
              "      } catch (error) {\n",
              "        console.error('Error during call to suggestCharts:', error);\n",
              "      }\n",
              "      quickchartButtonEl.classList.remove('colab-df-spinner');\n",
              "      quickchartButtonEl.classList.add('colab-df-quickchart-complete');\n",
              "    }\n",
              "    (() => {\n",
              "      let quickchartButtonEl =\n",
              "        document.querySelector('#df-1739c4c9-0751-4411-aa0e-151f28b31a21 button');\n",
              "      quickchartButtonEl.style.display =\n",
              "        google.colab.kernel.accessAllowed ? 'block' : 'none';\n",
              "    })();\n",
              "  </script>\n",
              "</div>\n",
              "\n",
              "  <div id=\"id_234e5caa-2446-443e-856c-3831d198999b\">\n",
              "    <style>\n",
              "      .colab-df-generate {\n",
              "        background-color: #E8F0FE;\n",
              "        border: none;\n",
              "        border-radius: 50%;\n",
              "        cursor: pointer;\n",
              "        display: none;\n",
              "        fill: #1967D2;\n",
              "        height: 32px;\n",
              "        padding: 0 0 0 0;\n",
              "        width: 32px;\n",
              "      }\n",
              "\n",
              "      .colab-df-generate:hover {\n",
              "        background-color: #E2EBFA;\n",
              "        box-shadow: 0px 1px 2px rgba(60, 64, 67, 0.3), 0px 1px 3px 1px rgba(60, 64, 67, 0.15);\n",
              "        fill: #174EA6;\n",
              "      }\n",
              "\n",
              "      [theme=dark] .colab-df-generate {\n",
              "        background-color: #3B4455;\n",
              "        fill: #D2E3FC;\n",
              "      }\n",
              "\n",
              "      [theme=dark] .colab-df-generate:hover {\n",
              "        background-color: #434B5C;\n",
              "        box-shadow: 0px 1px 3px 1px rgba(0, 0, 0, 0.15);\n",
              "        filter: drop-shadow(0px 1px 2px rgba(0, 0, 0, 0.3));\n",
              "        fill: #FFFFFF;\n",
              "      }\n",
              "    </style>\n",
              "    <button class=\"colab-df-generate\" onclick=\"generateWithVariable('df2')\"\n",
              "            title=\"Generate code using this dataframe.\"\n",
              "            style=\"display:none;\">\n",
              "\n",
              "  <svg xmlns=\"http://www.w3.org/2000/svg\" height=\"24px\"viewBox=\"0 0 24 24\"\n",
              "       width=\"24px\">\n",
              "    <path d=\"M7,19H8.4L18.45,9,17,7.55,7,17.6ZM5,21V16.75L18.45,3.32a2,2,0,0,1,2.83,0l1.4,1.43a1.91,1.91,0,0,1,.58,1.4,1.91,1.91,0,0,1-.58,1.4L9.25,21ZM18.45,9,17,7.55Zm-12,3A5.31,5.31,0,0,0,4.9,8.1,5.31,5.31,0,0,0,1,6.5,5.31,5.31,0,0,0,4.9,4.9,5.31,5.31,0,0,0,6.5,1,5.31,5.31,0,0,0,8.1,4.9,5.31,5.31,0,0,0,12,6.5,5.46,5.46,0,0,0,6.5,12Z\"/>\n",
              "  </svg>\n",
              "    </button>\n",
              "    <script>\n",
              "      (() => {\n",
              "      const buttonEl =\n",
              "        document.querySelector('#id_234e5caa-2446-443e-856c-3831d198999b button.colab-df-generate');\n",
              "      buttonEl.style.display =\n",
              "        google.colab.kernel.accessAllowed ? 'block' : 'none';\n",
              "\n",
              "      buttonEl.onclick = () => {\n",
              "        google.colab.notebook.generateWithVariable('df2');\n",
              "      }\n",
              "      })();\n",
              "    </script>\n",
              "  </div>\n",
              "\n",
              "    </div>\n",
              "  </div>\n"
            ],
            "application/vnd.google.colaboratory.intrinsic+json": {
              "type": "dataframe",
              "variable_name": "df2",
              "summary": "{\n  \"name\": \"df2\",\n  \"rows\": 252,\n  \"fields\": [\n    {\n      \"column\": \"Date\",\n      \"properties\": {\n        \"dtype\": \"date\",\n        \"min\": \"2016-01-04 00:00:00\",\n        \"max\": \"2016-12-30 00:00:00\",\n        \"num_unique_values\": 252,\n        \"samples\": [\n          \"2016-08-29 00:00:00\",\n          \"2016-01-12 00:00:00\",\n          \"2016-06-13 00:00:00\"\n        ],\n        \"semantic_type\": \"\",\n        \"description\": \"\"\n      }\n    },\n    {\n      \"column\": \"Open\",\n      \"properties\": {\n        \"dtype\": \"number\",\n        \"std\": 1.7416091397372657,\n        \"min\": 33.39250183105469,\n        \"max\": 40.83399963378906,\n        \"num_unique_values\": 244,\n        \"samples\": [\n          33.39250183105469,\n          36.08399963378906,\n          39.0004997253418\n        ],\n        \"semantic_type\": \"\",\n        \"description\": \"\"\n      }\n    },\n    {\n      \"column\": \"High\",\n      \"properties\": {\n        \"dtype\": \"number\",\n        \"std\": 1.6919748834310309,\n        \"min\": 33.6150016784668,\n        \"max\": 40.83399963378906,\n        \"num_unique_values\": 249,\n        \"samples\": [\n          37.08449935913086,\n          36.4375,\n          36.048500061035156\n        ],\n        \"semantic_type\": \"\",\n        \"description\": \"\"\n      }\n    },\n    {\n      \"column\": \"Low\",\n      \"properties\": {\n        \"dtype\": \"number\",\n        \"std\": 1.775586993918717,\n        \"min\": 33.15299987792969,\n        \"max\": 40.25699996948242,\n        \"num_unique_values\": 247,\n        \"samples\": [\n          35.1254997253418,\n          35.865848541259766,\n          38.653499603271484\n        ],\n        \"semantic_type\": \"\",\n        \"description\": \"\"\n      }\n    },\n    {\n      \"column\": \"Close\",\n      \"properties\": {\n        \"dtype\": \"number\",\n        \"std\": 1.7227879021971517,\n        \"min\": 33.41299819946289,\n        \"max\": 40.65549850463867,\n        \"num_unique_values\": 250,\n        \"samples\": [\n          37.295501708984375,\n          36.30350112915039,\n          35.21200180053711\n        ],\n        \"semantic_type\": \"\",\n        \"description\": \"\"\n      }\n    },\n    {\n      \"column\": \"Adj Close\",\n      \"properties\": {\n        \"dtype\": \"number\",\n        \"std\": 1.7227879021971517,\n        \"min\": 33.41299819946289,\n        \"max\": 40.65549850463867,\n        \"num_unique_values\": 250,\n        \"samples\": [\n          37.295501708984375,\n          36.30350112915039,\n          35.21200180053711\n        ],\n        \"semantic_type\": \"\",\n        \"description\": \"\"\n      }\n    },\n    {\n      \"column\": \"Volume\",\n      \"properties\": {\n        \"dtype\": \"number\",\n        \"std\": 18760354,\n        \"min\": 11748000,\n        \"max\": 126962000,\n        \"num_unique_values\": 250,\n        \"samples\": [\n          30250000,\n          40490000,\n          26614000\n        ],\n        \"semantic_type\": \"\",\n        \"description\": \"\"\n      }\n    }\n  ]\n}"
            }
          },
          "metadata": {},
          "execution_count": 50
        }
      ]
    },
    {
      "cell_type": "code",
      "source": [
        "df_ref1 = pdr.get_data_yahoo(\"IBM\", start=PRED_START, end=PRED_END)\n",
        "df_ref2 = pdr.get_data_yahoo(\"GOOG\", start=PRED_START, end=PRED_END) #GOOG　ヤフーファイナンスの省略文字"
      ],
      "metadata": {
        "colab": {
          "base_uri": "https://localhost:8080/"
        },
        "id": "AAebCQXGjiJK",
        "outputId": "7b7f5e4f-8608-4ef0-a6e3-c0615f958a0f"
      },
      "execution_count": null,
      "outputs": [
        {
          "output_type": "stream",
          "name": "stderr",
          "text": [
            "[*********************100%%**********************]  1 of 1 completed\n",
            "[*********************100%%**********************]  1 of 1 completed\n"
          ]
        }
      ]
    },
    {
      "cell_type": "code",
      "source": [
        "cdata1 = []\n",
        "cdata2 = [] #空リスト\n",
        "cdata_ref1 = []\n",
        "cdata_ref2 = [] #予言用リスト"
      ],
      "metadata": {
        "id": "gQ4pYhVmkRjl"
      },
      "execution_count": null,
      "outputs": []
    },
    {
      "cell_type": "code",
      "source": [
        "for i in df1['Close']: #def1の終値を出力　i終値\n",
        "    cdata1.append(i) #Cdata1に入れていく"
      ],
      "metadata": {
        "id": "BgtE7CJ3ktoO"
      },
      "execution_count": null,
      "outputs": []
    },
    {
      "cell_type": "code",
      "source": [
        "for i in df2['Close']: #Googleの格納されたデータが出力\n",
        "    cdata2.append(i)"
      ],
      "metadata": {
        "id": "y018LkMUkzrB"
      },
      "execution_count": null,
      "outputs": []
    },
    {
      "cell_type": "code",
      "source": [
        "for i in df_ref1['Close']:\n",
        "    cdata_ref1.append(i)\n",
        "for i in df_ref2['Close']:\n",
        "    cdata_ref2.append(i)"
      ],
      "metadata": {
        "id": "RI4cR3Mbk-Nz"
      },
      "execution_count": null,
      "outputs": []
    },
    {
      "cell_type": "code",
      "source": [
        "data1 = [] #IBM格納\n",
        "data2 = [] #GOOG格納\n",
        "for i in range(len(cdata1)): #学習用格納データ range Σの上下\n",
        "    data1.append(cdata1[i]) #データ格納\n",
        "    data2.append(cdata2[i])\n",
        "\n",
        "for i in range(30): #30区画のみを予測する　範囲指定\n",
        "    data1.append(cdata_ref1[i])\n",
        "    data2.append(cdata_ref2[i])\n"
      ],
      "metadata": {
        "id": "qCZVPrrRlEda"
      },
      "execution_count": null,
      "outputs": []
    },
    {
      "cell_type": "code",
      "source": [
        "from pennylane import numpy as np #pennylaneのnumpyを使用\n",
        "diff_log1 = np.log(data1) #対数を取る\n",
        "diff_log2 = np.log(data2)"
      ],
      "metadata": {
        "id": "t-MfXNf8lXXY"
      },
      "execution_count": null,
      "outputs": []
    },
    {
      "cell_type": "code",
      "source": [
        "diff_series1 = np.diff(diff_log1) #変動　確率過程を学習する　隣同士の引算\n",
        "diff_series2 = np.diff(diff_log2)"
      ],
      "metadata": {
        "id": "rCox-l9mmCR0"
      },
      "execution_count": null,
      "outputs": []
    },
    {
      "cell_type": "code",
      "source": [
        "import matplotlib.pyplot as plt #0から上下の変動\n",
        "plt.plot(diff_series1)"
      ],
      "metadata": {
        "colab": {
          "base_uri": "https://localhost:8080/",
          "height": 448
        },
        "id": "xJdEnpfDm5np",
        "outputId": "3a322465-6419-49fa-dd87-14d12ba1caed"
      },
      "execution_count": null,
      "outputs": [
        {
          "output_type": "execute_result",
          "data": {
            "text/plain": [
              "[<matplotlib.lines.Line2D at 0x7d3a83e294e0>]"
            ]
          },
          "metadata": {},
          "execution_count": 59
        },
        {
          "output_type": "display_data",
          "data": {
            "text/plain": [
              "<Figure size 640x480 with 1 Axes>"
            ],
            "image/png": "[encoded data removed]"
          },
          "metadata": {}
        }
      ]
    },
    {
      "cell_type": "code",
      "source": [
        "par = 2 #分解能\n",
        "def make_range(y, par=par): #make_range関数\n",
        "    max_y = max(y) #最大値のy\n",
        "    min_y = min(y) #最小値のy\n",
        "    range_list = np.percentile(y, q = [50]) #確率の区切り　50％\n",
        "\n",
        "    temp_list = np.concatenate([[min_y],range_list]) #2つの文字の羅列をまとめる\n",
        "    temp_list = np.concatenate([temp_list,[max_y]]) #最大値の仕切り板\n",
        "\n",
        "    ave_list = [] #平均値を調べる\n",
        "    for k in range(len(temp_list)-1):\n",
        "      ave_list.append((temp_list[k]+temp_list[k+1])/2) #append追加\n",
        "\n",
        "    return range_list,ave_list"
      ],
      "metadata": {
        "id": "jsOxpkmPmbnZ"
      },
      "execution_count": null,
      "outputs": []
    },
    {
      "cell_type": "code",
      "source": [
        "range_list1,ave_list1 = make_range(diff_series1[-30:]) #最後から30個省いたデータを出力\n",
        "range_list2,ave_list2 = make_range(diff_series2[-30:])"
      ],
      "metadata": {
        "id": "AJ5nv4Fjm3Au"
      },
      "execution_count": null,
      "outputs": []
    },
    {
      "cell_type": "code",
      "source": [
        "import matplotlib.pyplot as plt\n",
        "plt.plot(diff_series1)\n",
        "plt.plot(range(len(diff_series1)),range_list1[0]*np.ones(len(diff_series1))) #全体の平均値\n",
        "plt.plot(range(len(diff_series1)),ave_list1[0]*np.ones(len(diff_series1))) #平均値の上0\n",
        "plt.plot(range(len(diff_series1)),ave_list1[1]*np.ones(len(diff_series1))) #平均値の下1\n",
        "plt.show()"
      ],
      "metadata": {
        "colab": {
          "base_uri": "https://localhost:8080/",
          "height": 430
        },
        "id": "qTpjCgyXoKLN",
        "outputId": "3acd7a37-8c4d-4ac0-d88e-f691f39c918e"
      },
      "execution_count": null,
      "outputs": [
        {
          "output_type": "display_data",
          "data": {
            "text/plain": [
              "<Figure size 640x480 with 1 Axes>"
            ],
            "image/png": "[encoded data removed]"
          },
          "metadata": {}
        }
      ]
    },
    {
      "cell_type": "code",
      "source": [
        "def make_discrete(y,range_list,par=par): #教師データ作成　量子回路\n",
        "  dis_time =  [] #時変動データ\n",
        "  for v in y: #yをvとして導入\n",
        "    for k in range(par):\n",
        "      if k == 0:\n",
        "        if v < range_list[k]:\n",
        "          dis_time.append(k)\n",
        "      elif k == par - 1:\n",
        "        if range_list[-1] <= v:\n",
        "          dis_time.append(k)\n",
        "      else:\n",
        "        if range_list[k-1] <= v < range_list[k]:\n",
        "          dis_time.append(k)\n",
        "\n",
        "  return dis_time"
      ],
      "metadata": {
        "id": "S6WCwJZmoyqK"
      },
      "execution_count": null,
      "outputs": []
    },
    {
      "cell_type": "code",
      "source": [
        "dis_time1 = make_discrete(diff_series1,range_list1)\n",
        "dis_time2 = make_discrete(diff_series2,range_list2)"
      ],
      "metadata": {
        "id": "RTq_kbWhpmG6"
      },
      "execution_count": null,
      "outputs": []
    },
    {
      "cell_type": "code",
      "source": [
        "mat1 = np.zeros([par,par]) #行列"
      ],
      "metadata": {
        "id": "AV74-y5zpqbl"
      },
      "execution_count": null,
      "outputs": []
    },
    {
      "cell_type": "code",
      "source": [
        "for time in range(len(dis_time1)-30):#端は省く\n",
        "  t1 = dis_time1[time] #今の時刻を調べる\n",
        "  t2 = dis_time1[time+1] #次の時刻を調べる\n",
        "  mat1[t1][t2] +=1 #行列のt1とt2を調べる"
      ],
      "metadata": {
        "id": "0vMWCzHXp1yU"
      },
      "execution_count": null,
      "outputs": []
    },
    {
      "cell_type": "code",
      "source": [
        "z_list1 = []\n",
        "for p in range(par):\n",
        "  z_list1.append([sum(mat1[p,:])])"
      ],
      "metadata": {
        "id": "gK-xEbWvqTQr"
      },
      "execution_count": null,
      "outputs": []
    },
    {
      "cell_type": "code",
      "source": [
        "mat1 = mat1/np.array(z_list1)"
      ],
      "metadata": {
        "id": "kk4RfseGq6pY"
      },
      "execution_count": null,
      "outputs": []
    },
    {
      "cell_type": "code",
      "source": [
        "def make_mat(dis_time,par=par):\n",
        "  mat = np.zeros([par,par])\n",
        "  for time in range(len(dis_time)-30):#端は省く\n",
        "    t1 = dis_time[time]\n",
        "    t2 = dis_time[time+1]\n",
        "    mat[t1][t2] +=1\n",
        "\n",
        "  z_list = []\n",
        "  for p in range(par):\n",
        "    z_list.append([sum(mat[p,:])])\n",
        "\n",
        "  mat = mat/np.array(z_list)\n",
        "\n",
        "  return mat"
      ],
      "metadata": {
        "id": "qoAq820qFisj"
      },
      "execution_count": null,
      "outputs": []
    },
    {
      "cell_type": "code",
      "source": [
        "mat1 = make_mat(dis_time1) #GoogleとIBMの繊維行列,乱数値\n",
        "mat2 = make_mat(dis_time2)"
      ],
      "metadata": {
        "id": "fEufi5knFsET"
      },
      "execution_count": null,
      "outputs": []
    },
    {
      "cell_type": "code",
      "source": [
        "def make_mat_k(mat,k): #行列の累乗\n",
        "  mat = np.matrix(mat)\n",
        "  return mat**(k+1)"
      ],
      "metadata": {
        "id": "JgD_BlmIGJnu"
      },
      "execution_count": null,
      "outputs": []
    },
    {
      "cell_type": "code",
      "source": [
        "import pennylane as qml #量子回路\n",
        "from pennylane.templates import StronglyEntanglingLayers\n",
        "\n",
        "qubits_data = int(np.log2(par))*2\n",
        "qubits_data_ancilla = qubits_data\n",
        "n_qubits  = qubits_data + qubits_data_ancilla\n",
        "\n",
        "dev = qml.device('default.qubit', wires = n_qubits)\n",
        "@qml.qnode(dev, interface=\"autograd\") #autograd 自動的に微分する\n",
        "def circuit(weights, gamma, state1, state2, t, qubits_data, qubits_data_ancilla): #パラメータ\n",
        "  n_qubits  = qubits_data + qubits_data_ancilla\n",
        "  qubits_data1 =int(qubits_data/2) #相関関係のエンタングルメント\n",
        "  qubits_data2 =int(qubits_data/2)\n",
        "\n",
        "  bin_str = '0'+str(int(np.log2(par)))+'b'#2進数表示\n",
        "\n",
        "  for i in range(qubits_data1): #IBM\n",
        "    qml.PauliX(i)**int(format(state1, bin_str)[i]) #paulix 01を反転させる、state1は2進数\n",
        "\n",
        "  for j in range(qubits_data2): #GOOG\n",
        "    qml.PauliX(j+qubits_data1)**int(format(state2, bin_str)[j]) #データのエンタングルメント\n",
        "\n",
        "  qml.StronglyEntanglingLayers(weights, wires=range(n_qubits)) #エンタングルメントデータ\n",
        "\n",
        "  for i in range(n_qubits):\n",
        "    qml.RZ(t*gamma[i], wires= i)\n",
        "\n",
        "  qml.adjoint(StronglyEntanglingLayers)(weights, wires=range(n_qubits)) #逆にエンタングルメント\n",
        "\n",
        "  return [qml.probs(wires=[i for i in range(qubits_data1)]), qml.probs(wires=[i+qubits_data1 for i in range(qubits_data2)])] #内包表記\n",
        "\n",
        "Qnode = qml.QNode(circuit,dev)"
      ],
      "metadata": {
        "id": "S3Ya2k4zGOR3"
      },
      "execution_count": null,
      "outputs": []
    },
    {
      "cell_type": "code",
      "source": [
        "def cost(weights_ansatz, gamma, qubits_data, qubits_data_ancilla, mat1, mat2, Tmat = 30, ep = 10e-5): #コスト関数\n",
        "  c = 0\n",
        "  for t in range(Tmat):\n",
        "    for s1 in range(par):\n",
        "      for s2 in range(par):\n",
        "        [output1,output2] = Qnode(weights_ansatz, gamma, s1, s2,  t, qubits_data, qubits_data_ancilla)\n",
        "        mat_k1 = np.array(make_mat_k(mat1, t)) #確率行列\n",
        "        mat_k2 = np.array(make_mat_k(mat2, t))\n",
        "\n",
        "        for i in range(len(output1)):\n",
        "          c += output1[i]*np.log(output1[i]/(mat_k1[i][s1]+ep)) #KL情報量\n",
        "        for i in range(len(output2)):\n",
        "          c += output2[i]*np.log(output2[i]/(mat_k2[i][s1]+ep))\n",
        "\n",
        "  return c"
      ],
      "metadata": {
        "id": "-tcG3QjuWTVy"
      },
      "execution_count": null,
      "outputs": []
    },
    {
      "cell_type": "code",
      "source": [
        "max_steps = 20 #学習のステップ数\n",
        "opt = qml.AdamOptimizer(0.1) #機械学習の最適化"
      ],
      "metadata": {
        "id": "tJiSBCQNX7wk"
      },
      "execution_count": null,
      "outputs": []
    },
    {
      "cell_type": "code",
      "source": [
        "shape = qml.StronglyEntanglingLayers.shape(n_layers = 1, n_wires=n_qubits)\n",
        "weights_ansatz = 2 * np.pi *   np.random.random(size=shape)\n",
        "gamma = 2 * np.pi * np.random.random(n_qubits)"
      ],
      "metadata": {
        "id": "upiIzGQGYQuC"
      },
      "execution_count": null,
      "outputs": []
    },
    {
      "cell_type": "code",
      "source": [
        "gamma.requires_grad"
      ],
      "metadata": {
        "colab": {
          "base_uri": "https://localhost:8080/"
        },
        "id": "GLuM7jd_YWrY",
        "outputId": "f93304e5-c0bc-4e97-f5f0-fa920a7ea452"
      },
      "execution_count": null,
      "outputs": [
        {
          "output_type": "execute_result",
          "data": {
            "text/plain": [
              "True"
            ]
          },
          "metadata": {},
          "execution_count": 76
        }
      ]
    },
    {
      "cell_type": "code",
      "source": [
        "cost_series = [] #ニューラルネットワーク"
      ],
      "metadata": {
        "id": "9KO14OLZYcUj"
      },
      "execution_count": null,
      "outputs": []
    },
    {
      "cell_type": "code",
      "source": [
        "for step in tqdm.tqdm(range(max_steps)):\n",
        "  cost_temp = cost(weights_ansatz, gamma, qubits_data, qubits_data_ancilla, mat1,  mat2) #コスト関数\n",
        "  cost_series.append(cost_temp)\n",
        "  weights_ansatz, gamma, _, _, _, _ = opt.step(cost,weights_ansatz, gamma, qubits_data, qubits_data_ancilla, mat1, mat2)\n",
        "  print(weights_ansatz)"
      ],
      "metadata": {
        "colab": {
          "base_uri": "https://localhost:8080/"
        },
        "id": "OoZ4dHNEZqlX",
        "outputId": "1c5392f6-1635-4d68-999f-a34b03edf9f6"
      },
      "execution_count": null,
      "outputs": [
        {
          "output_type": "stream",
          "name": "stderr",
          "text": [
            "  5%|▌         | 1/20 [00:11<03:42, 11.69s/it]"
          ]
        },
        {
          "output_type": "stream",
          "name": "stdout",
          "text": [
            "[[[3.62237544 2.1151706  4.41373174]\n",
            "  [2.86049581 1.97821718 4.25981291]\n",
            "  [1.97697224 1.37704158 4.6911751 ]\n",
            "  [5.38091355 5.16473687 1.97444431]]]\n"
          ]
        },
        {
          "output_type": "stream",
          "name": "stderr",
          "text": [
            "\r 10%|█         | 2/20 [00:25<03:58, 13.22s/it]"
          ]
        },
        {
          "output_type": "stream",
          "name": "stdout",
          "text": [
            "[[[3.62237545 2.06053904 4.41373173]\n",
            "  [2.8604958  2.00881395 4.25981291]\n",
            "  [1.97697224 1.46595631 4.69117511]\n",
            "  [5.38091355 5.06737812 1.97444432]]]\n"
          ]
        },
        {
          "output_type": "stream",
          "name": "stderr",
          "text": [
            "\r 15%|█▌        | 3/20 [00:35<03:16, 11.57s/it]"
          ]
        },
        {
          "output_type": "stream",
          "name": "stdout",
          "text": [
            "[[[3.62237546 1.99034172 4.41373173]\n",
            "  [2.8604958  1.994872   4.25981291]\n",
            "  [1.97697224 1.55612764 4.69117511]\n",
            "  [5.38091355 4.97456296 1.97444432]]]\n"
          ]
        },
        {
          "output_type": "stream",
          "name": "stderr",
          "text": [
            "\r 20%|██        | 4/20 [00:45<02:52, 10.76s/it]"
          ]
        },
        {
          "output_type": "stream",
          "name": "stdout",
          "text": [
            "[[[3.62237547 1.91746785 4.41373172]\n",
            "  [2.8604958  1.95482362 4.25981291]\n",
            "  [1.97697224 1.63011548 4.69117511]\n",
            "  [5.38091354 4.88651698 1.97444431]]]\n"
          ]
        },
        {
          "output_type": "stream",
          "name": "stderr",
          "text": [
            "\r 25%|██▌       | 5/20 [00:54<02:33, 10.25s/it]"
          ]
        },
        {
          "output_type": "stream",
          "name": "stdout",
          "text": [
            "[[[3.62237547 1.8497316  4.4137317 ]\n",
            "  [2.86049581 1.90332168 4.25981289]\n",
            "  [1.97697223 1.67480288 4.6911751 ]\n",
            "  [5.38091353 4.80120063 1.9744443 ]]]\n"
          ]
        },
        {
          "output_type": "stream",
          "name": "stderr",
          "text": [
            "\r 30%|███       | 6/20 [01:04<02:21, 10.10s/it]"
          ]
        },
        {
          "output_type": "stream",
          "name": "stdout",
          "text": [
            "[[[3.62237548 1.79398351 4.41373169]\n",
            "  [2.86049581 1.84887776 4.25981289]\n",
            "  [1.97697222 1.67715454 4.6911751 ]\n",
            "  [5.38091352 4.73041395 1.9744443 ]]]\n"
          ]
        },
        {
          "output_type": "stream",
          "name": "stderr",
          "text": [
            "\r 35%|███▌      | 7/20 [01:13<02:09,  9.98s/it]"
          ]
        },
        {
          "output_type": "stream",
          "name": "stdout",
          "text": [
            "[[[3.62237549 1.75611454 4.41373168]\n",
            "  [2.86049582 1.80715199 4.25981288]\n",
            "  [1.97697222 1.65256623 4.69117509]\n",
            "  [5.38091352 4.67340873 1.9744443 ]]]\n"
          ]
        },
        {
          "output_type": "stream",
          "name": "stderr",
          "text": [
            "\r 40%|████      | 8/20 [01:23<01:58,  9.88s/it]"
          ]
        },
        {
          "output_type": "stream",
          "name": "stdout",
          "text": [
            "[[[3.62237549 1.72845878 4.41373167]\n",
            "  [2.86049583 1.7753924  4.25981287]\n",
            "  [1.97697222 1.61906243 4.69117508]\n",
            "  [5.38091351 4.62732538 1.9744443 ]]]\n"
          ]
        },
        {
          "output_type": "stream",
          "name": "stderr",
          "text": [
            "\r 45%|████▌     | 9/20 [01:33<01:48,  9.84s/it]"
          ]
        },
        {
          "output_type": "stream",
          "name": "stdout",
          "text": [
            "[[[3.62237549 1.71052699 4.41373166]\n",
            "  [2.86049583 1.75196024 4.25981286]\n",
            "  [1.97697222 1.58764186 4.69117507]\n",
            "  [5.3809135  4.59684159 1.9744443 ]]]\n"
          ]
        },
        {
          "output_type": "stream",
          "name": "stderr",
          "text": [
            "\r 50%|█████     | 10/20 [01:42<01:37,  9.74s/it]"
          ]
        },
        {
          "output_type": "stream",
          "name": "stdout",
          "text": [
            "[[[3.6223755  1.69979242 4.41373166]\n",
            "  [2.86049583 1.73635557 4.25981286]\n",
            "  [1.97697222 1.55056593 4.69117506]\n",
            "  [5.3809135  4.58208056 1.9744443 ]]]\n"
          ]
        },
        {
          "output_type": "stream",
          "name": "stderr",
          "text": [
            "\r 55%|█████▌    | 11/20 [01:52<01:28,  9.79s/it]"
          ]
        },
        {
          "output_type": "stream",
          "name": "stdout",
          "text": [
            "[[[3.6223755  1.69458134 4.41373164]\n",
            "  [2.86049582 1.72869589 4.25981286]\n",
            "  [1.97697222 1.51400985 4.69117506]\n",
            "  [5.3809135  4.57870275 1.9744443 ]]]\n"
          ]
        },
        {
          "output_type": "stream",
          "name": "stderr",
          "text": [
            "\r 60%|██████    | 12/20 [02:02<01:18,  9.87s/it]"
          ]
        },
        {
          "output_type": "stream",
          "name": "stdout",
          "text": [
            "[[[3.62237551 1.69257999 4.41373164]\n",
            "  [2.86049582 1.72563118 4.25981286]\n",
            "  [1.97697223 1.4752728  4.69117505]\n",
            "  [5.3809135  4.58394225 1.97444431]]]\n"
          ]
        },
        {
          "output_type": "stream",
          "name": "stderr",
          "text": [
            "\r 65%|██████▌   | 13/20 [02:19<01:23, 11.91s/it]"
          ]
        },
        {
          "output_type": "stream",
          "name": "stdout",
          "text": [
            "[[[3.62237551 1.69439943 4.41373164]\n",
            "  [2.86049581 1.72912809 4.25981286]\n",
            "  [1.97697224 1.43652061 4.69117505]\n",
            "  [5.3809135  4.59315625 1.9744443 ]]]\n"
          ]
        },
        {
          "output_type": "stream",
          "name": "stderr",
          "text": [
            "\r 70%|███████   | 14/20 [02:29<01:08, 11.34s/it]"
          ]
        },
        {
          "output_type": "stream",
          "name": "stdout",
          "text": [
            "[[[3.6223755  1.70021712 4.41373165]\n",
            "  [2.86049581 1.73690037 4.25981287]\n",
            "  [1.97697224 1.41575024 4.69117505]\n",
            "  [5.3809135  4.60417274 1.9744443 ]]]\n"
          ]
        },
        {
          "output_type": "stream",
          "name": "stderr",
          "text": [
            "\r 75%|███████▌  | 15/20 [02:39<00:53, 10.79s/it]"
          ]
        },
        {
          "output_type": "stream",
          "name": "stdout",
          "text": [
            "[[[3.62237549 1.70972537 4.41373165]\n",
            "  [2.8604958  1.74756904 4.25981287]\n",
            "  [1.97697225 1.40430808 4.69117504]\n",
            "  [5.3809135  4.62070582 1.97444429]]]\n"
          ]
        },
        {
          "output_type": "stream",
          "name": "stderr",
          "text": [
            "\r 80%|████████  | 16/20 [02:49<00:42, 10.62s/it]"
          ]
        },
        {
          "output_type": "stream",
          "name": "stdout",
          "text": [
            "[[[3.62237549 1.72345697 4.41373166]\n",
            "  [2.86049581 1.76073174 4.25981286]\n",
            "  [1.97697225 1.39757691 4.69117503]\n",
            "  [5.38091349 4.6474704  1.97444429]]]\n"
          ]
        },
        {
          "output_type": "stream",
          "name": "stderr",
          "text": [
            "\r 85%|████████▌ | 17/20 [02:58<00:30, 10.17s/it]"
          ]
        },
        {
          "output_type": "stream",
          "name": "stdout",
          "text": [
            "[[[3.62237549 1.74118621 4.41373166]\n",
            "  [2.86049581 1.77568828 4.25981286]\n",
            "  [1.97697225 1.398386   4.69117503]\n",
            "  [5.38091349 4.68082772 1.97444428]]]\n"
          ]
        },
        {
          "output_type": "stream",
          "name": "stderr",
          "text": [
            "\r 90%|█████████ | 18/20 [03:08<00:20, 10.07s/it]"
          ]
        },
        {
          "output_type": "stream",
          "name": "stdout",
          "text": [
            "[[[3.62237549 1.76154188 4.41373168]\n",
            "  [2.86049581 1.79127829 4.25981285]\n",
            "  [1.97697225 1.40738112 4.69117502]\n",
            "  [5.38091348 4.71267985 1.97444428]]]\n"
          ]
        },
        {
          "output_type": "stream",
          "name": "stderr",
          "text": [
            "\r 95%|█████████▌| 19/20 [03:19<00:10, 10.29s/it]"
          ]
        },
        {
          "output_type": "stream",
          "name": "stdout",
          "text": [
            "[[[3.62237549 1.78428926 4.41373169]\n",
            "  [2.86049581 1.8076915  4.25981285]\n",
            "  [1.97697225 1.42829634 4.69117501]\n",
            "  [5.38091347 4.73708864 1.97444427]]]\n"
          ]
        },
        {
          "output_type": "stream",
          "name": "stderr",
          "text": [
            "100%|██████████| 20/20 [03:29<00:00, 10.47s/it]"
          ]
        },
        {
          "output_type": "stream",
          "name": "stdout",
          "text": [
            "[[[3.62237549 1.80869301 4.41373171]\n",
            "  [2.86049579 1.82504658 4.25981284]\n",
            "  [1.97697226 1.45499236 4.691175  ]\n",
            "  [5.38091346 4.75312776 1.97444426]]]\n"
          ]
        },
        {
          "output_type": "stream",
          "name": "stderr",
          "text": [
            "\n"
          ]
        }
      ]
    },
    {
      "cell_type": "code",
      "source": [
        "plt.plot(cost_series) #コスト関数の推移"
      ],
      "metadata": {
        "colab": {
          "base_uri": "https://localhost:8080/",
          "height": 448
        },
        "id": "vIZ5dyw_Z0BC",
        "outputId": "8c39f061-e5fe-4623-9523-7bccc7c29618"
      },
      "execution_count": null,
      "outputs": [
        {
          "output_type": "execute_result",
          "data": {
            "text/plain": [
              "[<matplotlib.lines.Line2D at 0x7d3a8235dab0>]"
            ]
          },
          "metadata": {},
          "execution_count": 80
        },
        {
          "output_type": "display_data",
          "data": {
            "text/plain": [
              "<Figure size 640x480 with 1 Axes>"
            ],
            "image/png": "[encoded data removed]"
          },
          "metadata": {}
        }
      ]
    },
    {
      "cell_type": "code",
      "source": [
        "Tpred = 10\n",
        "Nsample = 100\n",
        "state_sample1 = []\n",
        "state_sample2 = []\n",
        "\n",
        "for sample in range(Nsample):\n",
        "  state1 = dis_time1[-30]\n",
        "  state2 = dis_time2[-30]\n",
        "  state_series1 = []\n",
        "  state_series2 = []\n",
        "  for t in range(Tpred):\n",
        "    prob1,prob2 = Qnode(weights_ansatz, gamma, state1, state2, t, qubits_data, qubits_data_ancilla)\n",
        "    state1 = np.random.choice(par, p=prob1)\n",
        "    state2 = np.random.choice(par, p=prob2)\n",
        "    state_series1.append(state1)\n",
        "    state_series2.append(state2)\n",
        "  state_sample1.append(state_series1)\n",
        "  state_sample2.append(state_series2)"
      ],
      "metadata": {
        "id": "9rlHTfdxaqeD"
      },
      "execution_count": null,
      "outputs": []
    },
    {
      "cell_type": "code",
      "source": [
        "range_list1"
      ],
      "metadata": {
        "id": "d7pfAhjpavJS"
      },
      "execution_count": null,
      "outputs": []
    },
    {
      "cell_type": "code",
      "source": [
        "pred_sample1 = []\n",
        "for state_series1 in state_sample1:\n",
        "  pred_series1 = []\n",
        "  for itemp in state_series1:\n",
        "    pred_series1.append(ave_list1[itemp])\n",
        "  pred_sample1.append(pred_series1)\n",
        "\n",
        "pred_sample2 = []\n",
        "for state_series2 in state_sample2:\n",
        "  pred_series2 = []\n",
        "  for itemp in state_series2:\n",
        "    pred_series2.append(ave_list2[itemp])\n",
        "  pred_sample2.append(pred_series2)"
      ],
      "metadata": {
        "id": "fag3Rx3_aym4"
      },
      "execution_count": null,
      "outputs": []
    },
    {
      "cell_type": "code",
      "source": [
        "ave1 = np.zeros(len(pred_series1))\n",
        "for pred_series1 in pred_sample1:\n",
        "  ave1 += np.array(pred_series1)\n",
        "ave1 = ave1/len(pred_sample1)\n",
        "\n",
        "ave2 = np.zeros(len(pred_series2))\n",
        "for pred_series2 in pred_sample2:\n",
        "  ave2 += np.array(pred_series2)\n",
        "ave2 = ave2/len(pred_sample2)"
      ],
      "metadata": {
        "id": "X9p-lyMIa3EI"
      },
      "execution_count": null,
      "outputs": []
    },
    {
      "cell_type": "code",
      "source": [
        "pred_series1"
      ],
      "metadata": {
        "colab": {
          "base_uri": "https://localhost:8080/"
        },
        "id": "FkkN0n20a8ro",
        "outputId": "dd3d556e-0ed0-4caf-9e10-83a8b4864a25"
      },
      "execution_count": null,
      "outputs": [
        {
          "output_type": "execute_result",
          "data": {
            "text/plain": [
              "[tensor(0.01525921, requires_grad=True),\n",
              " tensor(-0.00523665, requires_grad=True),\n",
              " tensor(-0.00523665, requires_grad=True),\n",
              " tensor(-0.00523665, requires_grad=True),\n",
              " tensor(0.01525921, requires_grad=True),\n",
              " tensor(0.01525921, requires_grad=True),\n",
              " tensor(0.01525921, requires_grad=True),\n",
              " tensor(-0.00523665, requires_grad=True),\n",
              " tensor(-0.00523665, requires_grad=True),\n",
              " tensor(0.01525921, requires_grad=True)]"
            ]
          },
          "metadata": {},
          "execution_count": 85
        }
      ]
    },
    {
      "cell_type": "code",
      "source": [
        "log_recon1 = np.cumsum(ave1)\n",
        "log_recon2 = np.cumsum(ave2)"
      ],
      "metadata": {
        "id": "2mvkppRUa-vo"
      },
      "execution_count": null,
      "outputs": []
    },
    {
      "cell_type": "code",
      "source": [
        "plt.plot(np.exp(log_recon1))\n",
        "plt.plot(np.exp(log_recon2))"
      ],
      "metadata": {
        "colab": {
          "base_uri": "https://localhost:8080/",
          "height": 448
        },
        "id": "loleHuMJbBzU",
        "outputId": "dea9f49c-711a-4ad5-8b43-ed11b31df123"
      },
      "execution_count": null,
      "outputs": [
        {
          "output_type": "execute_result",
          "data": {
            "text/plain": [
              "[<matplotlib.lines.Line2D at 0x7d3a842b4ee0>]"
            ]
          },
          "metadata": {},
          "execution_count": 87
        },
        {
          "output_type": "display_data",
          "data": {
            "text/plain": [
              "<Figure size 640x480 with 1 Axes>"
            ],
            "image/png": "[encoded data removed]"
          },
          "metadata": {}
        }
      ]
    },
    {
      "cell_type": "code",
      "source": [
        "Start = 30\n",
        "plt.plot(data1[-40:])\n",
        "plt.plot(range(Start,Start+10),data1[-10]*np.exp(log_recon1-log_recon1[0]))"
      ],
      "metadata": {
        "colab": {
          "base_uri": "https://localhost:8080/",
          "height": 448
        },
        "id": "peFJ0dEPbD6-",
        "outputId": "865b0da2-e859-4402-cb7c-a77d24fcb4c4"
      },
      "execution_count": null,
      "outputs": [
        {
          "output_type": "execute_result",
          "data": {
            "text/plain": [
              "[<matplotlib.lines.Line2D at 0x7d3a84257a00>]"
            ]
          },
          "metadata": {},
          "execution_count": 88
        },
        {
          "output_type": "display_data",
          "data": {
            "text/plain": [
              "<Figure size 640x480 with 1 Axes>"
            ],
            "image/png": "[encoded data removed]"
          },
          "metadata": {}
        }
      ]
    },
    {
      "cell_type": "code",
      "source": [
        "plt.plot(data2[-40:])\n",
        "plt.plot(range(Start,Start+10),data2[-10]*np.exp(log_recon2-log_recon2[0]))"
      ],
      "metadata": {
        "colab": {
          "base_uri": "https://localhost:8080/",
          "height": 448
        },
        "id": "T67xzJDabILi",
        "outputId": "52720027-d1e7-46e8-9a36-8703e9559706"
      },
      "execution_count": null,
      "outputs": [
        {
          "output_type": "execute_result",
          "data": {
            "text/plain": [
              "[<matplotlib.lines.Line2D at 0x7d3a8423ff40>]"
            ]
          },
          "metadata": {},
          "execution_count": 89
        },
        {
          "output_type": "display_data",
          "data": {
            "text/plain": [
              "<Figure size 640x480 with 1 Axes>"
            ],
            "image/png": "[encoded data removed]"
          },
          "metadata": {}
        }
      ]
    },
    {
      "cell_type": "code",
      "source": [],
      "metadata": {
        "id": "xWWQlv0PbNff"
      },
      "execution_count": null,
      "outputs": []
    }
  ]
}